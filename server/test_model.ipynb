{
 "cells": [
  {
   "cell_type": "code",
   "execution_count": 1,
   "metadata": {},
   "outputs": [
    {
     "name": "stderr",
     "output_type": "stream",
     "text": [
      "/Users/sanskarmishra/apprazer/Apprazer/venv/lib/python3.9/site-packages/urllib3/__init__.py:35: NotOpenSSLWarning: urllib3 v2 only supports OpenSSL 1.1.1+, currently the 'ssl' module is compiled with 'LibreSSL 2.8.3'. See: https://github.com/urllib3/urllib3/issues/3020\n",
      "  warnings.warn(\n"
     ]
    }
   ],
   "source": [
    "import pandas as pd\n",
    "import tensorflow as tf\n",
    "from sklearn.model_selection import train_test_split\n",
    "from sklearn.preprocessing import StandardScaler, LabelEncoder\n",
    "import numpy as np"
   ]
  },
  {
   "cell_type": "code",
   "execution_count": 2,
   "metadata": {},
   "outputs": [
    {
     "name": "stderr",
     "output_type": "stream",
     "text": [
      "/var/folders/1k/qjvp1x9d4c5c_kpdbfz9kk1h0000gn/T/ipykernel_15996/3240689177.py:3: DtypeWarning: Columns (5,8) have mixed types. Specify dtype option on import or set low_memory=False.\n",
      "  df = pd.read_csv(file_path)  # Only read first 1000 rows\n"
     ]
    }
   ],
   "source": [
    "# Read the CSV file\n",
    "file_path = 'year_2023_trimmed.csv'\n",
    "df = pd.read_csv(file_path)  # Only read first 1000 rows\n",
    "\n",
    "# # Let's start with a subset of columns for initial testing\n",
    "# selected_columns = [\n",
    "#     'loan_amount',\n",
    "#     'income',\n",
    "#     'property_value',\n",
    "#     'debt_to_income_ratio', #monthly debt / monthly income\n",
    "#     'derived_race',\n",
    "#     'derived_sex',\n",
    "#     'occupancy_type',\n",
    "#     'loan_purpose',  # categorical features\n",
    "#     'action_taken'   # target variable\n",
    "# ]\n",
    "\n",
    "# df = df[selected_columns]\n",
    "\n",
    "\n",
    "\n",
    "\n"
   ]
  },
  {
   "cell_type": "code",
   "execution_count": 3,
   "metadata": {},
   "outputs": [
    {
     "name": "stdout",
     "output_type": "stream",
     "text": [
      "Dataset shape after cleaning: (6034574, 9)\n"
     ]
    }
   ],
   "source": [
    "df = df.dropna()\n",
    "\n",
    "# --- (1) Filter out unwanted action_taken classes ---\n",
    "valid_actions = [1, 2, 3, 6]\n",
    "df = df[df['action_taken'].isin(valid_actions)]\n",
    "\n",
    "not_available_race = ['Race Not Available']\n",
    "\n",
    "not_available_sex = ['Sex Not Available']\n",
    "\n",
    "df = df[~df['derived_race'].isin(not_available_race) & ~df['derived_sex'].isin(not_available_sex)]\n",
    "\n",
    "\n",
    "\n",
    "# Remap values: 1,2,6 -> 1; 3 -> 0\n",
    "mapping = {1: 1, 2: 1, 6: 1, 3: 0}\n",
    "\n",
    "dti_mapping = {\n",
    "    '<20%': .10,\n",
    "    '20%-<30%': .25,\n",
    "    '30%-<36%': .33,\n",
    "    '36': .36,\n",
    "    '37': .37,\n",
    "    '38': .38,\n",
    "    '39': .39,\n",
    "    '40': .40,\n",
    "    '41': .41,\n",
    "    '42': .42,\n",
    "    '43': .43,\n",
    "    '44': .44,\n",
    "    '45': .45,\n",
    "    '46': .46,\n",
    "    '47': .47,\n",
    "    '48': .48,\n",
    "    '49': .49,\n",
    "    '50%-60%' : .55,\n",
    "    '>60%': .80,   \n",
    "}\n",
    "\n",
    "\n",
    "df['action_taken'] = df['action_taken'].map(mapping)\n",
    "\n",
    "df['debt_to_income_ratio'] = df['debt_to_income_ratio'].map(dti_mapping)\n",
    "\n",
    "\n",
    "# Handle missing values and non-numeric values in numerical columns\n",
    "for col in ['loan_amount', 'income', 'property_value']:\n",
    "    # Convert non-numeric values to NaN\n",
    "    df[col] = pd.to_numeric(df[col], errors='coerce')\n",
    "\n",
    "df = df.dropna()\n",
    "\n",
    "# Drop rows with any NaN values\n",
    "df.to_csv('data.csv', index=False)\n",
    "print(\"Dataset shape after cleaning:\", df.shape)\n"
   ]
  },
  {
   "cell_type": "code",
   "execution_count": 4,
   "metadata": {},
   "outputs": [
    {
     "name": "stdout",
     "output_type": "stream",
     "text": [
      "Dataset shape after filtering classes: (30173, 9)\n",
      "\n",
      "Distribution of action_taken (1=Approved,0=Denied):\n",
      "action_taken\n",
      "1    23074\n",
      "0     7099\n",
      "Name: count, dtype: int64\n",
      "Dataset shape: (30173, 9)\n",
      "\n",
      "Missing values:\n",
      "derived_race            0\n",
      "derived_sex             0\n",
      "action_taken            0\n",
      "loan_purpose            0\n",
      "loan_amount             0\n",
      "property_value          0\n",
      "occupancy_type          0\n",
      "income                  0\n",
      "debt_to_income_ratio    0\n",
      "dtype: int64\n"
     ]
    }
   ],
   "source": [
    "data = pd.read_csv('data.csv')\n",
    "df = data.sample(frac = .005, random_state=42)\n",
    "\n",
    "# smaller.to_csv('small_2023_sample.csv', index= False)\n",
    "\n",
    "# --- (2) Check how many rows remain and distribution ---\n",
    "print(\"Dataset shape after filtering classes:\", df.shape)\n",
    "print(\"\\nDistribution of action_taken (1=Approved,0=Denied):\")\n",
    "print(df['action_taken'].value_counts())\n",
    "# Print basic info about the loaded data\n",
    "print(\"Dataset shape:\", df.shape)\n",
    "print(\"\\nMissing values:\")\n",
    "print(df.isnull().sum())"
   ]
  },
  {
   "cell_type": "code",
   "execution_count": 5,
   "metadata": {},
   "outputs": [],
   "source": [
    "# df_yes = df[df['action_taken'] == 1]\n",
    "\n",
    "# df_yes = df_yes.sample(frac=0.5, random_state= 42)\n",
    "\n",
    "# df_no = df[df['action_taken'] == 0]\n",
    "\n",
    "# df = pd.concat([df_yes, df_no])\n",
    "\n",
    "# df = df.sample(frac = 1).reset_index(drop=True)\n",
    "\n",
    "# print(df)"
   ]
  },
  {
   "cell_type": "code",
   "execution_count": 6,
   "metadata": {},
   "outputs": [
    {
     "name": "stdout",
     "output_type": "stream",
     "text": [
      "\n",
      "Distribution of action_taken values:\n",
      "action_taken\n",
      "1    23074\n",
      "0     7099\n",
      "Name: count, dtype: int64\n",
      "\n",
      "Percentage distribution:\n",
      "action_taken\n",
      "1    76.472343\n",
      "0    23.527657\n",
      "Name: proportion, dtype: float64\n"
     ]
    }
   ],
   "source": [
    "\n",
    "\n",
    "# After cleaning but before encoding, add these prints:\n",
    "print(\"\\nDistribution of action_taken values:\")\n",
    "print(df['action_taken'].value_counts())\n",
    "print(\"\\nPercentage distribution:\")\n",
    "print(df['action_taken'].value_counts(normalize=True) * 100)\n",
    "\n",
    "# Separate features and target\n",
    "X = df.drop('action_taken', axis=1)\n",
    "y = df['action_taken']"
   ]
  },
  {
   "cell_type": "code",
   "execution_count": 7,
   "metadata": {},
   "outputs": [],
   "source": [
    "# Split categorical and numerical columns\n",
    "categorical_columns = ['derived_race', 'derived_sex', 'occupancy_type', 'loan_purpose']\n",
    "numerical_columns = ['loan_amount', 'income', 'property_value', 'debt_to_income_ratio']\n",
    "\n",
    "# Initialize encoders\n",
    "label_encoders = {}\n",
    "X_encoded = X.copy()\n",
    "\n",
    "# Encode categorical variables\n",
    "for col in categorical_columns:\n",
    "    label_encoders[col] = LabelEncoder()\n",
    "    X_encoded[col] = label_encoders[col].fit_transform(X[col])\n",
    "\n",
    "# Scale numerical variables\n",
    "scaler = StandardScaler()\n",
    "X_encoded[numerical_columns] = scaler.fit_transform(X_encoded[numerical_columns])\n",
    "\n",
    "# Remap the target values to 0, 1, 2\n",
    "label_encoder_y = LabelEncoder()\n",
    "y = label_encoder_y.fit_transform(y)\n"
   ]
  },
  {
   "cell_type": "code",
   "execution_count": 8,
   "metadata": {},
   "outputs": [],
   "source": [
    "# Split the data\n",
    "X_train, X_test, y_train, y_test = train_test_split(X_encoded, y, test_size=0.2, random_state=42)"
   ]
  },
  {
   "cell_type": "code",
   "execution_count": 9,
   "metadata": {},
   "outputs": [
    {
     "name": "stdout",
     "output_type": "stream",
     "text": [
      "\n",
      "Training set shape: (24138, 8)\n",
      "Test set shape: (6035, 8)\n",
      "\n",
      "Sample of encoded features:\n",
      "         derived_race  derived_sex  loan_purpose  loan_amount  property_value  \\\n",
      "1021141             7            0             1    -0.764634       -0.247763   \n",
      "2152869             2            2             0     1.247769        0.348452   \n",
      "2905982             3            0             1    -0.764634       -0.512747   \n",
      "3872650             7            0             0    -0.391967       -0.380255   \n",
      "4204532             5            1             0     0.726035        0.215960   \n",
      "\n",
      "         occupancy_type    income  debt_to_income_ratio  \n",
      "1021141               0 -0.138333              0.496757  \n",
      "2152869               0  0.014684             -0.506894  \n",
      "2905982               0 -0.104329             -1.008720  \n",
      "3872650               0 -0.155335              0.308572  \n",
      "4204532               0 -0.032398             -0.506894  \n",
      "\n",
      "Unique values in target variable: [0 1]\n",
      "\n",
      "Unique values in target variable: [0 1]\n",
      "Number of unique classes: 2\n",
      "Min value in action_taken: 0\n",
      "Max value in action_taken: 1\n"
     ]
    }
   ],
   "source": [
    "print(\"\\nTraining set shape:\", X_train.shape)\n",
    "print(\"Test set shape:\", X_test.shape)\n",
    "print(\"\\nSample of encoded features:\")\n",
    "print(X_encoded.head())\n",
    "print(\"\\nUnique values in target variable:\", np.unique(y))\n",
    "\n",
    "# After data cleaning but before model creation, add these debug prints:\n",
    "print(\"\\nUnique values in target variable:\", np.unique(y))\n",
    "print(\"Number of unique classes:\", len(np.unique(y)))\n",
    "print(\"Min value in action_taken:\", y.min())\n",
    "print(\"Max value in action_taken:\", y.max())"
   ]
  },
  {
   "cell_type": "code",
   "execution_count": 10,
   "metadata": {},
   "outputs": [],
   "source": [
    "# Import TabTransformer\n",
    "from tensorflow import keras\n",
    "from keras import layers\n",
    "from keras.callbacks import EarlyStopping\n",
    "\n",
    "# Define model parameters\n",
    "num_numerical_features = len(numerical_columns)\n",
    "num_categorical_features = len(categorical_columns)\n",
    "num_classes = len(np.unique(y))  # Fixed: using np.unique instead of .unique()\n",
    "\n",
    "categorical_cardinalities = [\n",
    "    len(label_encoders[col].classes_) for col in categorical_columns\n",
    "]"
   ]
  },
  {
   "cell_type": "code",
   "execution_count": 11,
   "metadata": {},
   "outputs": [
    {
     "name": "stdout",
     "output_type": "stream",
     "text": [
      "Model configuration:\n",
      "Number of numerical features: 4\n",
      "Number of categorical features: 4\n",
      "Categorical cardinalities: [8, 3, 3, 6]\n",
      "Number of classes: 2\n"
     ]
    }
   ],
   "source": [
    "print(\"Model configuration:\")\n",
    "print(f\"Number of numerical features: {num_numerical_features}\")\n",
    "print(f\"Number of categorical features: {num_categorical_features}\")\n",
    "print(f\"Categorical cardinalities: {categorical_cardinalities}\")\n",
    "print(f\"Number of classes: {num_classes}\")"
   ]
  },
  {
   "cell_type": "code",
   "execution_count": 12,
   "metadata": {},
   "outputs": [],
   "source": [
    "def create_tab_transformer(\n",
    "    num_numerical_features,\n",
    "    categorical_cardinalities,\n",
    "    num_classes,\n",
    "    d_model=32,\n",
    "    num_heads=8,\n",
    "    num_transformer_blocks=6,\n",
    "    mlp_dropout=0.1,\n",
    "    transformer_dropout=0.1\n",
    "):\n",
    "    # Numerical features\n",
    "    numerical_inputs = keras.Input(shape=(num_numerical_features,))\n",
    "    numerical_features = layers.BatchNormalization()(numerical_inputs)\n",
    "    numerical_features = layers.Dense(d_model)(numerical_features)\n",
    "\n",
    "    # Categorical features\n",
    "    categorical_inputs = []\n",
    "    categorical_embeddings = []\n",
    "    \n",
    "    for cardinality in categorical_cardinalities:\n",
    "        input_layer = keras.Input(shape=(1,))\n",
    "        categorical_inputs.append(input_layer)\n",
    "        \n",
    "        embedding_layer = layers.Embedding(\n",
    "            input_dim=cardinality,\n",
    "            output_dim=d_model\n",
    "        )(input_layer)\n",
    "        embedding_layer = layers.Reshape((-1, d_model))(embedding_layer)\n",
    "        categorical_embeddings.append(embedding_layer)\n",
    "\n",
    "    # Concatenate categorical embeddings\n",
    "    if categorical_embeddings:\n",
    "        categorical_features = layers.Concatenate(axis=1)(categorical_embeddings)\n",
    "        \n",
    "        # Add positional embeddings\n",
    "        categorical_features = layers.LayerNormalization(epsilon=1e-6)(categorical_features)\n",
    "    \n",
    "        # Apply Transformer blocks\n",
    "        for _ in range(num_transformer_blocks):\n",
    "            # Multi-head self attention\n",
    "            attention_output = layers.MultiHeadAttention(\n",
    "                num_heads=num_heads,\n",
    "                key_dim=d_model,\n",
    "                dropout=transformer_dropout\n",
    "            )(categorical_features, categorical_features)\n",
    "            \n",
    "            # Skip connection 1\n",
    "            x1 = layers.Add()([attention_output, categorical_features])\n",
    "            x1 = layers.LayerNormalization(epsilon=1e-6)(x1)\n",
    "            \n",
    "            # Feed-forward network\n",
    "            x2 = layers.Dense(d_model * 4, activation=\"relu\")(x1)\n",
    "            x2 = layers.Dropout(mlp_dropout)(x2)\n",
    "            x2 = layers.Dense(d_model)(x2)\n",
    "            \n",
    "            # Skip connection 2\n",
    "            categorical_features = layers.Add()([x2, x1])\n",
    "            categorical_features = layers.LayerNormalization(epsilon=1e-6)(categorical_features)\n",
    "        \n",
    "        # Pool categorical features\n",
    "        categorical_features = layers.GlobalAveragePooling1D()(categorical_features)\n",
    "\n",
    "    # Combine features\n",
    "    features = layers.Concatenate(axis=1)([\n",
    "        numerical_features,\n",
    "        categorical_features\n",
    "    ])\n",
    "\n",
    "    # Final MLP layers\n",
    "    features = layers.Dense(64, activation=\"relu\")(features)\n",
    "    features = layers.Dropout(mlp_dropout)(features)\n",
    "    features = layers.Dense(32, activation=\"relu\")(features)\n",
    "    features = layers.Dropout(mlp_dropout)(features)\n",
    "    \n",
    "    # Output layer\n",
    "    output = layers.Dense(num_classes, activation=\"softmax\")(features)\n",
    "\n",
    "    # Create model\n",
    "    model = keras.Model(\n",
    "        inputs=[numerical_inputs] + categorical_inputs,\n",
    "        outputs=output\n",
    "    )\n",
    "    \n",
    "    return model"
   ]
  },
  {
   "cell_type": "code",
   "execution_count": 13,
   "metadata": {},
   "outputs": [],
   "source": [
    "# Create the model\n",
    "model = create_tab_transformer(\n",
    "    num_numerical_features=num_numerical_features,\n",
    "    categorical_cardinalities=categorical_cardinalities,\n",
    "    num_classes=num_classes\n",
    ")\n",
    "\n",
    "# print(\"\\nModel Summary:\")\n",
    "# model.summary()\n",
    "\n",
    "# Prepare data in the format needed for the model\n",
    "X_train_numerical = X_train[numerical_columns].values\n",
    "X_test_numerical = X_test[numerical_columns].values\n",
    "\n",
    "X_train_categorical = [X_train[col].values.reshape(-1, 1) for col in categorical_columns]\n",
    "X_test_categorical = [X_test[col].values.reshape(-1, 1) for col in categorical_columns]\n",
    "\n",
    "# Convert target to one-hot encoded format\n",
    "y_train_encoded = keras.utils.to_categorical(y_train)\n",
    "y_test_encoded = keras.utils.to_categorical(y_test)\n",
    "\n",
    "# print(\"\\nUnique values in encoded target:\", np.unique(y))\n",
    "# print(\"Shape of encoded training target:\", y_train_encoded.shape)\n",
    "# print(\"Shape of encoded test target:\", y_test_encoded.shape)\n",
    "\n",
    "# Compile the model\n",
    "model.compile(\n",
    "    optimizer=keras.optimizers.Adam(learning_rate=0.001),\n",
    "    loss='categorical_crossentropy',\n",
    "    metrics=['accuracy']\n",
    ")"
   ]
  },
  {
   "cell_type": "code",
   "execution_count": 14,
   "metadata": {},
   "outputs": [
    {
     "name": "stdout",
     "output_type": "stream",
     "text": [
      "Computed class weights: {0: np.float64(2.1312025428218258), 1: np.float64(0.6532611637347767)}\n",
      "Epoch 1/50\n",
      "\u001b[1m 23/189\u001b[0m \u001b[32m━━\u001b[0m\u001b[37m━━━━━━━━━━━━━━━━━━\u001b[0m \u001b[1m9s\u001b[0m 57ms/step - accuracy: 0.6646 - loss: 0.6366"
     ]
    },
    {
     "name": "stdout",
     "output_type": "stream",
     "text": [
      "\u001b[1m189/189\u001b[0m \u001b[32m━━━━━━━━━━━━━━━━━━━━\u001b[0m\u001b[37m\u001b[0m \u001b[1m15s\u001b[0m 51ms/step - accuracy: 0.7197 - loss: 0.5739 - val_accuracy: 0.8131 - val_loss: 0.4518\n",
      "Epoch 2/50\n",
      "\u001b[1m189/189\u001b[0m \u001b[32m━━━━━━━━━━━━━━━━━━━━\u001b[0m\u001b[37m\u001b[0m \u001b[1m10s\u001b[0m 55ms/step - accuracy: 0.7508 - loss: 0.5259 - val_accuracy: 0.8015 - val_loss: 0.4681\n",
      "Epoch 3/50\n",
      "\u001b[1m189/189\u001b[0m \u001b[32m━━━━━━━━━━━━━━━━━━━━\u001b[0m\u001b[37m\u001b[0m \u001b[1m11s\u001b[0m 56ms/step - accuracy: 0.7506 - loss: 0.5183 - val_accuracy: 0.7816 - val_loss: 0.4810\n",
      "Epoch 4/50\n",
      "\u001b[1m189/189\u001b[0m \u001b[32m━━━━━━━━━━━━━━━━━━━━\u001b[0m\u001b[37m\u001b[0m \u001b[1m11s\u001b[0m 58ms/step - accuracy: 0.7641 - loss: 0.5136 - val_accuracy: 0.8031 - val_loss: 0.4670\n",
      "Epoch 5/50\n",
      "\u001b[1m189/189\u001b[0m \u001b[32m━━━━━━━━━━━━━━━━━━━━\u001b[0m\u001b[37m\u001b[0m \u001b[1m11s\u001b[0m 56ms/step - accuracy: 0.7677 - loss: 0.5110 - val_accuracy: 0.8075 - val_loss: 0.4470\n",
      "Epoch 6/50\n",
      "\u001b[1m189/189\u001b[0m \u001b[32m━━━━━━━━━━━━━━━━━━━━\u001b[0m\u001b[37m\u001b[0m \u001b[1m10s\u001b[0m 55ms/step - accuracy: 0.7721 - loss: 0.5064 - val_accuracy: 0.7993 - val_loss: 0.4731\n",
      "Epoch 7/50\n",
      "\u001b[1m189/189\u001b[0m \u001b[32m━━━━━━━━━━━━━━━━━━━━\u001b[0m\u001b[37m\u001b[0m \u001b[1m10s\u001b[0m 55ms/step - accuracy: 0.7658 - loss: 0.5135 - val_accuracy: 0.7795 - val_loss: 0.5040\n",
      "Epoch 8/50\n",
      "\u001b[1m189/189\u001b[0m \u001b[32m━━━━━━━━━━━━━━━━━━━━\u001b[0m\u001b[37m\u001b[0m \u001b[1m11s\u001b[0m 57ms/step - accuracy: 0.7698 - loss: 0.5076 - val_accuracy: 0.7944 - val_loss: 0.4816\n",
      "Epoch 9/50\n",
      "\u001b[1m189/189\u001b[0m \u001b[32m━━━━━━━━━━━━━━━━━━━━\u001b[0m\u001b[37m\u001b[0m \u001b[1m11s\u001b[0m 57ms/step - accuracy: 0.7652 - loss: 0.5118 - val_accuracy: 0.7915 - val_loss: 0.4620\n",
      "Epoch 10/50\n",
      "\u001b[1m189/189\u001b[0m \u001b[32m━━━━━━━━━━━━━━━━━━━━\u001b[0m\u001b[37m\u001b[0m \u001b[1m10s\u001b[0m 55ms/step - accuracy: 0.7633 - loss: 0.5139 - val_accuracy: 0.8061 - val_loss: 0.4540\n",
      "\n",
      "Test accuracy: 0.8075\n"
     ]
    }
   ],
   "source": [
    "from sklearn.utils.class_weight import compute_class_weight\n",
    "from tensorflow.keras.callbacks import EarlyStopping\n",
    "\n",
    "# Suppose y_train is an array of shape [n_samples]\n",
    "class_weights = compute_class_weight(\n",
    "    class_weight='balanced', \n",
    "    classes=np.unique(y_train), \n",
    "    y=y_train\n",
    ")\n",
    "class_weights_dict = dict(enumerate(class_weights))\n",
    "print(\"Computed class weights:\", class_weights_dict)\n",
    "\n",
    "# Early stopping callback\n",
    "early_stop = EarlyStopping(\n",
    "    monitor='val_loss',\n",
    "    patience=5,\n",
    "    restore_best_weights=True\n",
    ")\n",
    "\n",
    "history = model.fit(\n",
    "    [X_train_numerical] + X_train_categorical,\n",
    "    y_train_encoded,\n",
    "    validation_data=([X_test_numerical] + X_test_categorical, y_test_encoded),\n",
    "    class_weight=class_weights_dict,    # <-- balances classes\n",
    "    batch_size=128,                     # a moderate batch size\n",
    "    epochs=50,                          # more epochs\n",
    "    callbacks=[early_stop],             # early stopping\n",
    "    verbose=1\n",
    ")\n",
    "\n",
    "# Print final evaluation\n",
    "test_loss, test_accuracy = model.evaluate(\n",
    "    [X_test_numerical] + X_test_categorical,\n",
    "    y_test_encoded,\n",
    "    verbose=0\n",
    ")\n",
    "print(f\"\\nTest accuracy: {test_accuracy:.4f}\")"
   ]
  },
  {
   "cell_type": "code",
   "execution_count": 15,
   "metadata": {},
   "outputs": [
    {
     "data": {
      "image/png": "[encoded data removed]",
      "text/plain": [
       "<Figure size 1200x400 with 2 Axes>"
      ]
     },
     "metadata": {},
     "output_type": "display_data"
    }
   ],
   "source": [
    "# Plot training history\n",
    "import matplotlib.pyplot as plt\n",
    "\n",
    "plt.figure(figsize=(12, 4))\n",
    "\n",
    "plt.subplot(1, 2, 1)\n",
    "plt.plot(history.history['loss'], label='Training Loss')\n",
    "plt.plot(history.history['val_loss'], label='Validation Loss')\n",
    "plt.title('Model Loss')\n",
    "plt.xlabel('Epoch')\n",
    "plt.ylabel('Loss')\n",
    "plt.legend()\n",
    "\n",
    "plt.subplot(1, 2, 2)\n",
    "plt.plot(history.history['accuracy'], label='Training Accuracy')\n",
    "plt.plot(history.history['val_accuracy'], label='Validation Accuracy')\n",
    "plt.title('Model Accuracy')\n",
    "plt.xlabel('Epoch')\n",
    "plt.ylabel('Accuracy')\n",
    "plt.legend()\n",
    "\n",
    "plt.tight_layout()\n",
    "plt.show()"
   ]
  }
 ],
 "metadata": {
  "kernelspec": {
   "display_name": "venv",
   "language": "python",
   "name": "python3"
  },
  "language_info": {
   "codemirror_mode": {
    "name": "ipython",
    "version": 3
   },
   "file_extension": ".py",
   "mimetype": "text/x-python",
   "name": "python",
   "nbconvert_exporter": "python",
   "pygments_lexer": "ipython3",
   "version": "3.9.6"
  }
 },
 "nbformat": 4,
 "nbformat_minor": 2
}
